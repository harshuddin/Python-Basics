{
  "nbformat": 4,
  "nbformat_minor": 0,
  "metadata": {
    "colab": {
      "provenance": []
    },
    "kernelspec": {
      "name": "python3",
      "display_name": "Python 3"
    },
    "language_info": {
      "name": "python"
    }
  },
  "cells": [
    {
      "cell_type": "markdown",
      "source": [
        "PYTHON BASICS\n",
        "\n",
        "1. what is python, and why is it popular?\n",
        "answer> Python is a popular programming language. It is an interpreted, object-oriented, high-level programming language with dynamic semantics.It is popular because it's versatile, easy to learn, and has a large community of users. It's used in many industries, including data science, web development, and artificial intelligence.\n",
        "\n",
        " 2. What is an interpreter in Python?\n",
        " answer> A python interpreter is a computer program that converts each high-level program statement into machine code and it translates the command that you write out into code that the computer can understand.\n",
        "\n",
        " 3. What are pre-defined keywords in Python?\n",
        " answer> Python keywords are special reserved words that have specific meanings and purposes and can’t be used for anything but those specific purposes.\n",
        " Some common examples\n",
        " True, False: Boolean values.\n",
        "None: Represents the absence of a value\n",
        "\n",
        "4. Can keywords be used as variable names?\n",
        "answer> No, keywords cannot be used as variable names because they define the structure and syntax rules of a programming language.\n",
        "\n",
        "5. What is mutability in Python?\n",
        "answer> In Python, mutability is a capability of an object to be changed or modified after its creation. In Python lists are a widely used data structure that allows the storage and manipulation of a collection of items.\n",
        "\n",
        "6. Why are lists mutable, but tuples are immutable?\n",
        "answer> lists are mutable because they are designed to be flexible and allow for dynamic changes like adding, removing, or updating elements within the list after it's created, while tuples are immutable because they are meant to represent fixed collections of data that should not be modified once created.\n",
        "\n",
        "7. What is the difference between \"==\" and \"is\" operators in Python?\n",
        "answer> The difference between \"==\" and \"is\" operators in Python is :    \n",
        "== Operator -\n",
        "To compare objects based on their values, Python’s equality operators (==) are employed. It calls the left object’s _eq_() class method which specifies the criteria for determining equality .\n",
        "‘is’ Operator -\n",
        "Python identity operators (is) are used to compare objects based on their identity. When the variables on either side of an operator point at the exact same object, the “is” operator’s evaluation is true. Otherwise, it would provide us with a false assessment.\n",
        "\n",
        "8. What are logical operators in Python?\n",
        "answer> Python logical operators are used to combine conditional statements, allowing you to perform operations based on multiple conditions. These Python operators, alongside arithmetic operators, are special symbols used to carry out computations on values and variables.\n",
        "\n",
        "9. What is type casting in Python?\n",
        "answer> Type Casting is the method to convert the Python variable datatype into a certain data type in order to perform the required operation by users. In this article, we will see the various techniques for typecasting. There can be two types of Type Casting in Python:\n",
        "1.Python Implicit Type Conversion.\n",
        "2.Python Explicit Type Conversion.\n",
        "\n",
        "10. What is the difference between implicit and explicit type casting?\n",
        "answer>\n",
        " Implicit Type Casting:\n",
        "In implicit type casting, the programming language automatically converts data from one type to another if needed. For example, if you have an integer variable and you try to assign it to a float variable, the programming language will automatically convert the integer to a float without you having to do anything.\n",
        "Explicit Type Casting:\n",
        "Explicit type casting, also known as type conversion or type coercion, occurs when the programmer explicitly converts a value from one data type to another. Unlike implicit type casting, explicit type casting requires the programmer to specify the desired data type conversion.\n",
        "\n",
        "11. What is the purpose of conditional statements in Python?\n",
        "answer> Conditional statements in Python allow you to control the flow of your program based on certain conditions. They help you make decisions in your code, executing different blocks of code depending on whether a condition is true or false.\n",
        "The main types of conditional statements in Python are:\n",
        "if statement: Executes a block of code only if a specified condition is true.\n",
        "if-else statement: Executes one block of code if the condition is true, and another block if the condition is false.\n",
        "if-elif-else statement: Allows for multiple conditions to be checked, executing different code blocks depending on which condition is met.\n",
        "\n",
        "12. How does the elif statement work?\n",
        "answer> The “elif” keyword in Python, stands for “else if”. It can be used in conditional statements to check for multiple conditions. For example, if the first condition is false, it moves on to the next “elif” statement to check if that condition is true. If none of the conditions are true, the code will execute the else statement.\n",
        "\n",
        "13. What is the difference between for and while loops?\n",
        "answer> For loop:\n",
        ">The for loop is used when you know in advance how many times you want to execute the block of code.\n",
        ">It iterates over a sequence (e.g., a list, tuple, string, or range) and executes the block of code for each item in the sequence.\n",
        ">The loop variable (variable) takes the value of each item in the sequence during each iteration.\n",
        "While loop:\n",
        ">The while loop is used when you don't know in advance how many times you want to execute the block of code. It continues to execute as long as the specified condition is true.\n",
        ">It's important to make sure that the condition eventually becomes false; otherwise, the loop will run indefinitely, resulting in an infinite loop.\n",
        "\n",
        "14. Describe a scenario where a while loop is more suitable than a for loop?\n",
        "Answer- Here's a scenario where a while loop is more suitable than a for loop in Python:\n",
        "\n",
        "Scenario:Reading User Input Until Valid Data is Entered\n",
        "Suppose you want to write a program that asks the user to enter a valid email address. The program should keep asking the user for input until a valid email address is entered.\n",
        "Why a While Loop is More Suitable\n",
        "In this scenario, a while loop is more suitable than a for loop for several reasons:\n",
        "1. Unknown number of iterations: The program doesn't know in advance how many times the user will need to enter their email address before entering a valid one.\n",
        "2. Conditional repetition: The program needs to repeat the loop based on a condition (i.e., the email address is valid).\n",
        "3. Dynamic updates: The program needs to update the input variable dynamically based on the user's input."
      ],
      "metadata": {
        "id": "GBX5obM_Dnh-"
      }
    },
    {
      "cell_type": "markdown",
      "source": [
        "PRACTICAL QUESTIONS SOLUTIONS\n"
      ],
      "metadata": {
        "id": "RFf59uwlUh2S"
      }
    },
    {
      "cell_type": "code",
      "source": [
        "# question 1. Write a Python program to print \"Hello, World!_\n",
        "print (\"helloworld\")"
      ],
      "metadata": {
        "colab": {
          "base_uri": "https://localhost:8080/"
        },
        "id": "61kLs1Iu5yMY",
        "outputId": "6a17f0c4-e484-498a-a2d6-f6ddf453deb6"
      },
      "execution_count": null,
      "outputs": [
        {
          "output_type": "stream",
          "name": "stdout",
          "text": [
            "helloworld\n"
          ]
        }
      ]
    },
    {
      "cell_type": "code",
      "source": [
        "# question 2. Write a Python program that displays your name and age\n",
        "Name =\"Harshuddin\"\n",
        "Age = 22\n",
        "print (\"Name:\", Name)\n",
        "print (\"Age:\", Age)\n"
      ],
      "metadata": {
        "id": "WXM4yq-g-3Z8",
        "colab": {
          "base_uri": "https://localhost:8080/"
        },
        "outputId": "fdb0ead6-6a46-4ab0-af8c-65ddb8373bea"
      },
      "execution_count": null,
      "outputs": [
        {
          "output_type": "stream",
          "name": "stdout",
          "text": [
            "Name: Harshuddin\n",
            "Age: 22\n"
          ]
        }
      ]
    },
    {
      "cell_type": "code",
      "source": [
        "# question 3. Write code to print all the pre-defined keywords in Python using the keyword library?\n",
        "import keyword\n",
        "print(keyword.kwlist)"
      ],
      "metadata": {
        "id": "bWcbmXl4DthF",
        "colab": {
          "base_uri": "https://localhost:8080/"
        },
        "outputId": "6aee1a23-eea6-4ffc-bbe8-f8e0a8229bbb"
      },
      "execution_count": null,
      "outputs": [
        {
          "output_type": "stream",
          "name": "stdout",
          "text": [
            "['False', 'None', 'True', 'and', 'as', 'assert', 'async', 'await', 'break', 'class', 'continue', 'def', 'del', 'elif', 'else', 'except', 'finally', 'for', 'from', 'global', 'if', 'import', 'in', 'is', 'lambda', 'nonlocal', 'not', 'or', 'pass', 'raise', 'return', 'try', 'while', 'with', 'yield']\n"
          ]
        }
      ]
    },
    {
      "cell_type": "code",
      "source": [
        "# Question 4. Write a program that checks if a given word is a Python keyword?\n",
        "import keyword\n",
        "keys = [\"for\", \"geeksforgeeks\", \"elif\", \"elseif\", \"nikhil\",\n",
        "        \"assert\", \"shambhavi\", \"True\", \"False\", \"akshat\",\n",
        "        \"akash\", \"break\", \"ashty\", \"lambda\", \"suman\",\n",
        "        \"try\", \"vaishnavi\"]\n",
        "\n",
        "for i in range(len(keys)):\n",
        "     # checking which are keywords\n",
        "    if keyword.iskeyword(keys[i]):\n",
        "        print(keys[i] + \" is python keyword\")\n",
        "    else:\n",
        "        print(keys[i] + \" is not a python keyword\")"
      ],
      "metadata": {
        "colab": {
          "base_uri": "https://localhost:8080/"
        },
        "id": "R7vfsdp_yZUV",
        "outputId": "f2a1f7a0-686d-4e08-e8c1-aa8b0aa6a744"
      },
      "execution_count": null,
      "outputs": [
        {
          "output_type": "stream",
          "name": "stdout",
          "text": [
            "for is python keyword\n",
            "geeksforgeeks is not a python keyword\n",
            "elif is python keyword\n",
            "elseif is not a python keyword\n",
            "nikhil is not a python keyword\n",
            "assert is python keyword\n",
            "shambhavi is not a python keyword\n",
            "True is python keyword\n",
            "False is python keyword\n",
            "akshat is not a python keyword\n",
            "akash is not a python keyword\n",
            "break is python keyword\n",
            "ashty is not a python keyword\n",
            "lambda is python keyword\n",
            "suman is not a python keyword\n",
            "try is python keyword\n",
            "vaishnavi is not a python keyword\n"
          ]
        }
      ]
    },
    {
      "cell_type": "code",
      "source": [
        "\n",
        "# Question 5. Create a list and tuple in Python, and demonstrate how attempting to change an element works differently for each.\n",
        "Create = list\n",
        "create = tuple\n",
        "print(Create)\n",
        "print(create)\n"
      ],
      "metadata": {
        "colab": {
          "base_uri": "https://localhost:8080/"
        },
        "id": "obMDHRsj0zs3",
        "outputId": "18a35f6b-34f7-4a78-e97b-3fcf7b78c34c"
      },
      "execution_count": null,
      "outputs": [
        {
          "output_type": "stream",
          "name": "stdout",
          "text": [
            "<class 'list'>\n",
            "<class 'tuple'>\n"
          ]
        }
      ]
    },
    {
      "cell_type": "code",
      "source": [
        "# Question 6. Write a function to demonstrate the behavior of mutable and immutable arguments.\n",
        "def demonstrate_mutability(immutable_arg, mutable_arg):\n",
        "    print(f\"Before modifying - Immutable: {immutable_arg}, Mutable:  {mutable_arg}\")\n",
        "\n",
        "    # Modifying the mutable argument (list)\n",
        "    mutable_arg.append(4)\n",
        "    print(f\"After modifying mutable - Immutable: {immutable_arg}, Mutable: {mutable_arg}\")\n",
        "\n",
        "    # Reassigning the immutable argument (integer)\n",
        "    immutable_arg += 1\n",
        "    print(f\"After modifying immutable - Immutable: {immutable_arg}, Mutable: {mutable_arg}\")\n",
        "\n",
        "# Example usage:\n",
        "immutable_value = 10\n",
        "mutable_value = [1, 2, 3]\n",
        "\n",
        "demonstrate_mutability(immutable_value, mutable_value)\n",
        "\n",
        "print(f\"Outside function - Immutable: {immutable_value}, Mutable: {mutable_value}\")\n"
      ],
      "metadata": {
        "id": "0cYU-6i63Lam",
        "colab": {
          "base_uri": "https://localhost:8080/"
        },
        "outputId": "06ddf833-b82d-4da1-a158-75886a5481c7"
      },
      "execution_count": null,
      "outputs": [
        {
          "output_type": "stream",
          "name": "stdout",
          "text": [
            "Before modifying - Immutable: 10, Mutable:  [1, 2, 3]\n",
            "After modifying mutable - Immutable: 10, Mutable: [1, 2, 3, 4]\n",
            "After modifying immutable - Immutable: 11, Mutable: [1, 2, 3, 4]\n",
            "Outside function - Immutable: 10, Mutable: [1, 2, 3, 4]\n"
          ]
        }
      ]
    },
    {
      "cell_type": "code",
      "source": [
        "# Question 7. Write a function to demonstrate the behavior of mutable and immutable arguments\n",
        "def demonstrate_mutability(immutable_arg, mutable_arg):\n",
        "    print(f\"Before modifying - Immutable: {immutable_arg}, Mutable:  {mutable_arg}\")\n",
        "\n",
        "    # Modifying the mutable argument (list)\n",
        "    mutable_arg.append(4)\n",
        "    print(f\"After modifying mutable - Immutable: {immutable_arg}, Mutable: {mutable_arg}\")\n",
        "\n",
        "    # Reassigning the immutable argument (integer)\n",
        "    immutable_arg += 1\n",
        "    print(f\"After modifying immutable - Immutable: {immutable_arg}, Mutable: {mutable_arg}\")\n",
        "\n",
        "# Example usage:\n",
        "immutable_value = 10\n",
        "mutable_value = [1, 2, 3]\n",
        "\n",
        "demonstrate_mutability(immutable_value, mutable_value)\n",
        "\n",
        "print(f\"Outside function - Immutable: {immutable_value}, Mutable: {mutable_value}\")"
      ],
      "metadata": {
        "id": "eS0_LJD2DuNR"
      },
      "execution_count": null,
      "outputs": []
    },
    {
      "cell_type": "code",
      "source": [
        "# Q8. Write a program to demonstrate the use of logical operators\n",
        "\n",
        "# Program to demonstrate logical operators\n",
        "\n",
        "a = True\n",
        "b = False\n",
        "c = 10\n",
        "d = 5\n",
        "\n",
        "# Using 'and' operator: returns True if both operands are True\n",
        "print(\"a and b:\", a and b)  # False because b is False\n",
        "\n",
        "# Using 'or' operator: returns True if at least one operand is True\n",
        "print(\"a or b:\", a or b)    # True because a is True\n",
        "\n",
        "# Using 'not' operator: reverses the logical state of its operand\n",
        "print(\"not a:\", not a)      # False because a is True\n",
        "print(\"not b:\", not b)      # True because b is False\n",
        "\n",
        "# Using logical operators with comparison\n",
        "print(\"c > d and a:\", c > d and a)  # True because c > d and a is True\n",
        "print(\"c < d or b:\", c < d or b)    # False because both c < d and b are False\n",
        "print(\"not (c == d):\", not (c == d))  # True because c is not equal to d"
      ],
      "metadata": {
        "colab": {
          "base_uri": "https://localhost:8080/"
        },
        "id": "3hZrzkqX9IKR",
        "outputId": "75d987c5-1d41-4e1e-d121-eb6433561312"
      },
      "execution_count": null,
      "outputs": [
        {
          "output_type": "stream",
          "name": "stdout",
          "text": [
            "a and b: False\n",
            "a or b: True\n",
            "not a: False\n",
            "not b: True\n",
            "c > d and a: True\n",
            "c < d or b: False\n",
            "not (c == d): True\n"
          ]
        }
      ]
    },
    {
      "cell_type": "code",
      "source": [
        "#Q10. Write code to demonstrate type casting with list elements.\n",
        "\n",
        "# List with elements of different types (strings, integers, and floats)\n",
        "my_list = [\"1\", \"2\", \"3.5\", \"4.8\", 5, 6]\n",
        "\n",
        "# Empty lists to store converted values\n",
        "int_list = []\n",
        "float_list = []\n",
        "str_list = []\n",
        "\n",
        "# Loop through the list and perform type casting\n",
        "for element in my_list:\n",
        "\n",
        "    # Convert to integer if possible\n",
        "    try:\n",
        "        int_value = int(float(element))  # Handling cases where float values can be cast to int\n",
        "        int_list.append(int_value)\n",
        "    except ValueError:\n",
        "        print(f\"Cannot convert '{element}' to integer\")\n",
        "         # Convert to float\n",
        "    try:\n",
        "        float_value = float(element)\n",
        "        float_list.append(float_value)\n",
        "    except ValueError:\n",
        "        print(f\"Cannot convert '{element}' to float\")\n",
        "\n",
        "    # Convert to string (everything can be converted to a string)\n",
        "    str_value = str(element)\n",
        "    str_list.append(str_value)\n",
        "    # Print results\n",
        "print(\"Original list:\", my_list)\n",
        "print(\"Converted to integers:\", int_list)\n",
        "print(\"Converted to floats:\", float_list)\n",
        "print(\"Converted to strings:\", str_list)\n"
      ],
      "metadata": {
        "id": "4YZ5zufx9HJD",
        "colab": {
          "base_uri": "https://localhost:8080/"
        },
        "outputId": "a0721792-d624-481a-8fd9-e5f7f608d0e2"
      },
      "execution_count": 9,
      "outputs": [
        {
          "output_type": "stream",
          "name": "stdout",
          "text": [
            "Original list: ['1', '2', '3.5', '4.8', 5, 6]\n",
            "Converted to integers: [1, 2, 3, 4, 5, 6]\n",
            "Converted to floats: [1.0, 2.0, 3.5, 4.8, 5.0, 6.0]\n",
            "Converted to strings: ['1', '2', '3.5', '4.8', '5', '6']\n"
          ]
        }
      ]
    },
    {
      "cell_type": "code",
      "source": [
        "# Question 11. Write a program that checks if a number is positive, negative, or zero\n",
        "\n",
        "a=float(input(\"Enter number here:\"))\n",
        "if a<0:\n",
        "    print (\"number is negative\")\n",
        "elif a>0:\n",
        "    print (\"number is positive\")\n",
        "else:\n",
        "    print (\"number is zero\")"
      ],
      "metadata": {
        "id": "aRfF52AV9Glf",
        "colab": {
          "base_uri": "https://localhost:8080/"
        },
        "outputId": "f01149ab-a065-445a-861c-55b5ef5595d8"
      },
      "execution_count": 9,
      "outputs": [
        {
          "output_type": "stream",
          "name": "stdout",
          "text": [
            "Enter number here:3\n",
            "number is positive\n"
          ]
        }
      ]
    },
    {
      "cell_type": "code",
      "source": [
        "# Question 12. Write a for loop to print numbers from 1 to 100\n",
        "for i in range(1,100):\n",
        "    print(i, end=\"\")"
      ],
      "metadata": {
        "colab": {
          "base_uri": "https://localhost:8080/"
        },
        "id": "XwXOVuBr3Aip",
        "outputId": "92b5e63e-54ce-4a5c-a9df-fa577669229b"
      },
      "execution_count": 13,
      "outputs": [
        {
          "output_type": "stream",
          "name": "stdout",
          "text": [
            "123456789101112131415161718192021222324252627282930313233343536373839404142434445464748495051525354555657585960616263646566676869707172737475767778798081828384858687888990919293949596979899"
          ]
        }
      ]
    },
    {
      "cell_type": "code",
      "source": [
        "# Question 13. Write a Python program to find the sum of all even numbers between 1 and 50.\n",
        "\n",
        "j=0\n",
        "for i in range (1,50):\n",
        "    if i%2==0:\n",
        "        j=j+i\n",
        "    else:\n",
        "        j=j+0\n",
        "print(j)"
      ],
      "metadata": {
        "colab": {
          "base_uri": "https://localhost:8080/"
        },
        "id": "HkNv85TTKaQC",
        "outputId": "6a9cd77b-972f-4192-e0af-0a3a0071dddf"
      },
      "execution_count": 1,
      "outputs": [
        {
          "output_type": "stream",
          "name": "stdout",
          "text": [
            "600\n"
          ]
        }
      ]
    },
    {
      "cell_type": "code",
      "source": [
        "# Question 15. Write a Python program to calculate the factorial of a number provided by the user using a while loop.\n",
        "num = int(input(\"Enter a number: \"))\n",
        "factorial = 1\n",
        "current = 1\n",
        "\n",
        "while current <= num:\n",
        "    factorial *= current\n",
        "    current += 1\n",
        "\n",
        "print(f\"The factorial of {num} is {factorial}\")"
      ],
      "metadata": {
        "colab": {
          "base_uri": "https://localhost:8080/"
        },
        "id": "bTRwCJQjKy1X",
        "outputId": "5066cf01-e7d5-4603-b4d5-7ca6214db34a"
      },
      "execution_count": 6,
      "outputs": [
        {
          "output_type": "stream",
          "name": "stdout",
          "text": [
            "Enter a number: 5\n",
            "The factorial of 5 is 120\n"
          ]
        }
      ]
    },
    {
      "cell_type": "code",
      "source": [
        "# Question 14. Write a program to reverse a string using a while loop.\n",
        "string = input(\"Enter a string: \")\n",
        "reversed_string = \"\"\n",
        "index = len(string) - 1\n",
        "\n",
        "while index >= 0:\n",
        "    reversed_string += string[index]\n",
        "    index -= 1\n",
        "\n",
        "print(\"Reversed string:\", reversed_string)"
      ],
      "metadata": {
        "colab": {
          "base_uri": "https://localhost:8080/"
        },
        "id": "KAPrWmbvCCot",
        "outputId": "1c589560-0204-4dfc-e444-f29bf393ba5f"
      },
      "execution_count": 7,
      "outputs": [
        {
          "output_type": "stream",
          "name": "stdout",
          "text": [
            "Enter a string: 1\n",
            "Reversed string: 1\n"
          ]
        }
      ]
    }
  ]
}